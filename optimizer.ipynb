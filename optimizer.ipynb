{
 "cells": [
  {
   "cell_type": "markdown",
   "metadata": {},
   "source": [
    "ref: https://stackoverflow.com/questions/48467666/ranking-optimization\n",
    "\n",
    "ref: https://developers.google.com/optimization/flow/assignment_min_cost_flow\n",
    "\n",
    "ref: https://gitlab.com/darrylm/assign_to_workshops"
   ]
  },
  {
   "cell_type": "code",
   "execution_count": 216,
   "metadata": {},
   "outputs": [],
   "source": [
    "from ortools.graph.python import min_cost_flow\n",
    "import pandas as pd"
   ]
  },
  {
   "cell_type": "markdown",
   "metadata": {},
   "source": [
    "# Arrange Data"
   ]
  },
  {
   "cell_type": "code",
   "execution_count": 217,
   "metadata": {},
   "outputs": [],
   "source": [
    "data = pd.read_csv(\"data.csv\")"
   ]
  },
  {
   "cell_type": "code",
   "execution_count": 218,
   "metadata": {},
   "outputs": [],
   "source": [
    "# Shuffle to yield different outputs for equal penalties \n",
    "# (i.e. different people bumped down to lower ranked preferences in ties)\n",
    "data = data.sample(frac=1)"
   ]
  },
  {
   "cell_type": "code",
   "execution_count": 219,
   "metadata": {},
   "outputs": [
    {
     "data": {
      "text/html": [
       "<div>\n",
       "<style scoped>\n",
       "    .dataframe tbody tr th:only-of-type {\n",
       "        vertical-align: middle;\n",
       "    }\n",
       "\n",
       "    .dataframe tbody tr th {\n",
       "        vertical-align: top;\n",
       "    }\n",
       "\n",
       "    .dataframe thead th {\n",
       "        text-align: right;\n",
       "    }\n",
       "</style>\n",
       "<table border=\"1\" class=\"dataframe\">\n",
       "  <thead>\n",
       "    <tr style=\"text-align: right;\">\n",
       "      <th></th>\n",
       "      <th>Name</th>\n",
       "      <th>Bio</th>\n",
       "      <th>Chem</th>\n",
       "      <th>Soc</th>\n",
       "      <th>Phys</th>\n",
       "      <th>Lit</th>\n",
       "      <th>Gov</th>\n",
       "      <th>Tech</th>\n",
       "      <th>Env</th>\n",
       "    </tr>\n",
       "  </thead>\n",
       "  <tbody>\n",
       "    <tr>\n",
       "      <th>16</th>\n",
       "      <td>Ali</td>\n",
       "      <td>1</td>\n",
       "      <td>8</td>\n",
       "      <td>6</td>\n",
       "      <td>3</td>\n",
       "      <td>4</td>\n",
       "      <td>2</td>\n",
       "      <td>5</td>\n",
       "      <td>7</td>\n",
       "    </tr>\n",
       "    <tr>\n",
       "      <th>1</th>\n",
       "      <td>Youssef</td>\n",
       "      <td>1</td>\n",
       "      <td>6</td>\n",
       "      <td>4</td>\n",
       "      <td>5</td>\n",
       "      <td>2</td>\n",
       "      <td>3</td>\n",
       "      <td>7</td>\n",
       "      <td>8</td>\n",
       "    </tr>\n",
       "    <tr>\n",
       "      <th>20</th>\n",
       "      <td>Selim</td>\n",
       "      <td>1</td>\n",
       "      <td>6</td>\n",
       "      <td>2</td>\n",
       "      <td>3</td>\n",
       "      <td>5</td>\n",
       "      <td>4</td>\n",
       "      <td>7</td>\n",
       "      <td>8</td>\n",
       "    </tr>\n",
       "    <tr>\n",
       "      <th>19</th>\n",
       "      <td>Murad</td>\n",
       "      <td>1</td>\n",
       "      <td>4</td>\n",
       "      <td>6</td>\n",
       "      <td>5</td>\n",
       "      <td>3</td>\n",
       "      <td>2</td>\n",
       "      <td>8</td>\n",
       "      <td>7</td>\n",
       "    </tr>\n",
       "    <tr>\n",
       "      <th>8</th>\n",
       "      <td>Hamza</td>\n",
       "      <td>1</td>\n",
       "      <td>6</td>\n",
       "      <td>2</td>\n",
       "      <td>5</td>\n",
       "      <td>3</td>\n",
       "      <td>4</td>\n",
       "      <td>7</td>\n",
       "      <td>8</td>\n",
       "    </tr>\n",
       "  </tbody>\n",
       "</table>\n",
       "</div>"
      ],
      "text/plain": [
       "       Name  Bio  Chem  Soc  Phys  Lit  Gov  Tech  Env\n",
       "16      Ali    1     8    6     3    4    2     5    7\n",
       "1   Youssef    1     6    4     5    2    3     7    8\n",
       "20    Selim    1     6    2     3    5    4     7    8\n",
       "19    Murad    1     4    6     5    3    2     8    7\n",
       "8     Hamza    1     6    2     5    3    4     7    8"
      ]
     },
     "execution_count": 219,
     "metadata": {},
     "output_type": "execute_result"
    }
   ],
   "source": [
    "data.head()"
   ]
  },
  {
   "cell_type": "code",
   "execution_count": 220,
   "metadata": {},
   "outputs": [],
   "source": [
    "capacities = {k:3 for k in data.columns[1:]}"
   ]
  },
  {
   "cell_type": "code",
   "execution_count": 221,
   "metadata": {},
   "outputs": [
    {
     "data": {
      "text/plain": [
       "{'Bio': 3,\n",
       " 'Chem': 3,\n",
       " 'Soc': 3,\n",
       " 'Phys': 3,\n",
       " 'Lit': 3,\n",
       " 'Gov': 3,\n",
       " 'Tech': 3,\n",
       " 'Env': 3}"
      ]
     },
     "execution_count": 221,
     "metadata": {},
     "output_type": "execute_result"
    }
   ],
   "source": [
    "capacities"
   ]
  },
  {
   "cell_type": "code",
   "execution_count": 222,
   "metadata": {},
   "outputs": [],
   "source": [
    "data = data.set_index(\"Name\")\n",
    "data = data.T"
   ]
  },
  {
   "cell_type": "code",
   "execution_count": 223,
   "metadata": {},
   "outputs": [
    {
     "data": {
      "text/html": [
       "<div>\n",
       "<style scoped>\n",
       "    .dataframe tbody tr th:only-of-type {\n",
       "        vertical-align: middle;\n",
       "    }\n",
       "\n",
       "    .dataframe tbody tr th {\n",
       "        vertical-align: top;\n",
       "    }\n",
       "\n",
       "    .dataframe thead th {\n",
       "        text-align: right;\n",
       "    }\n",
       "</style>\n",
       "<table border=\"1\" class=\"dataframe\">\n",
       "  <thead>\n",
       "    <tr style=\"text-align: right;\">\n",
       "      <th>Name</th>\n",
       "      <th>Ali</th>\n",
       "      <th>Youssef</th>\n",
       "      <th>Selim</th>\n",
       "      <th>Murad</th>\n",
       "      <th>Hamza</th>\n",
       "      <th>Bilal</th>\n",
       "      <th>Mohamed</th>\n",
       "      <th>Karim</th>\n",
       "      <th>Tareq</th>\n",
       "      <th>Mustafa</th>\n",
       "      <th>...</th>\n",
       "      <th>Abdel-Rahman</th>\n",
       "      <th>Yassin</th>\n",
       "      <th>Ibrahim</th>\n",
       "      <th>Mahmoud</th>\n",
       "      <th>Halim</th>\n",
       "      <th>Hassan</th>\n",
       "      <th>Abdallah</th>\n",
       "      <th>Hussein</th>\n",
       "      <th>Omar</th>\n",
       "      <th>Taha</th>\n",
       "    </tr>\n",
       "  </thead>\n",
       "  <tbody>\n",
       "    <tr>\n",
       "      <th>Bio</th>\n",
       "      <td>1</td>\n",
       "      <td>1</td>\n",
       "      <td>1</td>\n",
       "      <td>1</td>\n",
       "      <td>1</td>\n",
       "      <td>1</td>\n",
       "      <td>1</td>\n",
       "      <td>1</td>\n",
       "      <td>1</td>\n",
       "      <td>1</td>\n",
       "      <td>...</td>\n",
       "      <td>1</td>\n",
       "      <td>1</td>\n",
       "      <td>1</td>\n",
       "      <td>1</td>\n",
       "      <td>1</td>\n",
       "      <td>1</td>\n",
       "      <td>1</td>\n",
       "      <td>1</td>\n",
       "      <td>1</td>\n",
       "      <td>1</td>\n",
       "    </tr>\n",
       "    <tr>\n",
       "      <th>Chem</th>\n",
       "      <td>8</td>\n",
       "      <td>6</td>\n",
       "      <td>6</td>\n",
       "      <td>4</td>\n",
       "      <td>6</td>\n",
       "      <td>5</td>\n",
       "      <td>5</td>\n",
       "      <td>2</td>\n",
       "      <td>3</td>\n",
       "      <td>2</td>\n",
       "      <td>...</td>\n",
       "      <td>5</td>\n",
       "      <td>5</td>\n",
       "      <td>3</td>\n",
       "      <td>5</td>\n",
       "      <td>4</td>\n",
       "      <td>5</td>\n",
       "      <td>7</td>\n",
       "      <td>6</td>\n",
       "      <td>5</td>\n",
       "      <td>8</td>\n",
       "    </tr>\n",
       "    <tr>\n",
       "      <th>Soc</th>\n",
       "      <td>6</td>\n",
       "      <td>4</td>\n",
       "      <td>2</td>\n",
       "      <td>6</td>\n",
       "      <td>2</td>\n",
       "      <td>7</td>\n",
       "      <td>4</td>\n",
       "      <td>4</td>\n",
       "      <td>5</td>\n",
       "      <td>5</td>\n",
       "      <td>...</td>\n",
       "      <td>2</td>\n",
       "      <td>7</td>\n",
       "      <td>4</td>\n",
       "      <td>8</td>\n",
       "      <td>6</td>\n",
       "      <td>6</td>\n",
       "      <td>8</td>\n",
       "      <td>4</td>\n",
       "      <td>7</td>\n",
       "      <td>2</td>\n",
       "    </tr>\n",
       "    <tr>\n",
       "      <th>Phys</th>\n",
       "      <td>3</td>\n",
       "      <td>5</td>\n",
       "      <td>3</td>\n",
       "      <td>5</td>\n",
       "      <td>5</td>\n",
       "      <td>2</td>\n",
       "      <td>7</td>\n",
       "      <td>8</td>\n",
       "      <td>2</td>\n",
       "      <td>6</td>\n",
       "      <td>...</td>\n",
       "      <td>3</td>\n",
       "      <td>3</td>\n",
       "      <td>2</td>\n",
       "      <td>2</td>\n",
       "      <td>5</td>\n",
       "      <td>4</td>\n",
       "      <td>6</td>\n",
       "      <td>3</td>\n",
       "      <td>2</td>\n",
       "      <td>7</td>\n",
       "    </tr>\n",
       "    <tr>\n",
       "      <th>Lit</th>\n",
       "      <td>4</td>\n",
       "      <td>2</td>\n",
       "      <td>5</td>\n",
       "      <td>3</td>\n",
       "      <td>3</td>\n",
       "      <td>4</td>\n",
       "      <td>3</td>\n",
       "      <td>3</td>\n",
       "      <td>6</td>\n",
       "      <td>3</td>\n",
       "      <td>...</td>\n",
       "      <td>4</td>\n",
       "      <td>4</td>\n",
       "      <td>6</td>\n",
       "      <td>4</td>\n",
       "      <td>2</td>\n",
       "      <td>3</td>\n",
       "      <td>2</td>\n",
       "      <td>7</td>\n",
       "      <td>4</td>\n",
       "      <td>5</td>\n",
       "    </tr>\n",
       "  </tbody>\n",
       "</table>\n",
       "<p>5 rows × 22 columns</p>\n",
       "</div>"
      ],
      "text/plain": [
       "Name  Ali  Youssef  Selim  Murad  Hamza  Bilal  Mohamed  Karim  Tareq  \\\n",
       "Bio     1        1      1      1      1      1        1      1      1   \n",
       "Chem    8        6      6      4      6      5        5      2      3   \n",
       "Soc     6        4      2      6      2      7        4      4      5   \n",
       "Phys    3        5      3      5      5      2        7      8      2   \n",
       "Lit     4        2      5      3      3      4        3      3      6   \n",
       "\n",
       "Name  Mustafa  ...  Abdel-Rahman  Yassin  Ibrahim  Mahmoud  Halim  Hassan  \\\n",
       "Bio         1  ...             1       1        1        1      1       1   \n",
       "Chem        2  ...             5       5        3        5      4       5   \n",
       "Soc         5  ...             2       7        4        8      6       6   \n",
       "Phys        6  ...             3       3        2        2      5       4   \n",
       "Lit         3  ...             4       4        6        4      2       3   \n",
       "\n",
       "Name  Abdallah  Hussein  Omar  Taha  \n",
       "Bio          1        1     1     1  \n",
       "Chem         7        6     5     8  \n",
       "Soc          8        4     7     2  \n",
       "Phys         6        3     2     7  \n",
       "Lit          2        7     4     5  \n",
       "\n",
       "[5 rows x 22 columns]"
      ]
     },
     "execution_count": 223,
     "metadata": {},
     "output_type": "execute_result"
    }
   ],
   "source": [
    "data.head()"
   ]
  },
  {
   "cell_type": "code",
   "execution_count": 224,
   "metadata": {},
   "outputs": [
    {
     "data": {
      "text/plain": [
       "Series([], dtype: int64)"
      ]
     },
     "execution_count": 224,
     "metadata": {},
     "output_type": "execute_result"
    }
   ],
   "source": [
    "# mis-entered rankings?\n",
    "q = data.nunique()\n",
    "q[q < 8]"
   ]
  },
  {
   "cell_type": "code",
   "execution_count": 225,
   "metadata": {},
   "outputs": [],
   "source": [
    "people_preferences = dict()\n",
    "for name in data.columns:\n",
    "    people_preferences[name] = data[name].sort_values().index.to_list()"
   ]
  },
  {
   "cell_type": "markdown",
   "metadata": {},
   "source": [
    "# Optimizing"
   ]
  },
  {
   "cell_type": "code",
   "execution_count": 226,
   "metadata": {},
   "outputs": [],
   "source": [
    "def penalty_func_square(val):\n",
    "    return val ** 2\n",
    "\n",
    "def penalty_func_ident(val):\n",
    "    return val\n",
    "\n",
    "def penalty_func_nonsense(val):\n",
    "    return val ** 5"
   ]
  },
  {
   "cell_type": "code",
   "execution_count": 227,
   "metadata": {},
   "outputs": [],
   "source": [
    "people_indexes = {person:i for i, person in enumerate(list(people_preferences))}\n",
    "grp_indexes_offset = len(people_indexes)\n",
    "grp_indexes = {grp:(i + grp_indexes_offset) for i, grp in enumerate(list(capacities))}\n",
    "sink_index = len(people_indexes) + len(grp_indexes)"
   ]
  },
  {
   "cell_type": "code",
   "execution_count": 228,
   "metadata": {},
   "outputs": [],
   "source": [
    "smcf = min_cost_flow.SimpleMinCostFlow()"
   ]
  },
  {
   "cell_type": "code",
   "execution_count": 229,
   "metadata": {},
   "outputs": [],
   "source": [
    "# Create arc from each person to each workshop.\n",
    "# Its capacity is 1 (the person can attend the workshop at most once),\n",
    "# and the cost is the penalty based on the priority order).\n",
    "# Also, track arc IDs so we can get extract results later.\n",
    "\n",
    "person_grp_to_arc_index = dict()\n",
    "for person, prefs in people_preferences.items():\n",
    "    person_idx = people_indexes[person]\n",
    "    for i in range(len(capacities)):\n",
    "        grp = prefs[i]\n",
    "        grp_idx = grp_indexes[grp]\n",
    "        cost = penalty_func_square(i)  # or i + 1 to start w/ 1\n",
    "\n",
    "        arc_index = smcf.add_arc_with_capacity_and_unit_cost(person_idx, grp_idx, 1, cost)\n",
    "        person_grp_to_arc_index[(person, grp)] = arc_index\n"
   ]
  },
  {
   "cell_type": "code",
   "execution_count": 230,
   "metadata": {},
   "outputs": [],
   "source": [
    "# create an arc from each workshop to the sink.\n",
    "# Its capacity is the workshop capacity. Its cost is 0.\n",
    "for grp, grp_idx in grp_indexes.items():\n",
    "    grp_capacity = capacities[grp]\n",
    "    smcf.add_arc_with_capacity_and_unit_cost(grp_idx, sink_index, grp_capacity, 0)"
   ]
  },
  {
   "cell_type": "code",
   "execution_count": 231,
   "metadata": {},
   "outputs": [],
   "source": [
    "# Now add the node supplies.  They are 1 at each person (each person can\n",
    "# go to at most 1 workshop), and -numPeople at the sink (each person needs to\n",
    "# go to at least 1 workshop)\n",
    "\n",
    "for person_idx in people_indexes.values():\n",
    "    smcf.set_node_supply(person_idx, 1)\n",
    "smcf.set_node_supply(sink_index, -len(people_preferences))"
   ]
  },
  {
   "cell_type": "code",
   "execution_count": 232,
   "metadata": {},
   "outputs": [
    {
     "data": {
      "text/plain": [
       "<Status.OPTIMAL: 1>"
      ]
     },
     "execution_count": 232,
     "metadata": {},
     "output_type": "execute_result"
    }
   ],
   "source": [
    "# Solve!\n",
    "smcf.solve_max_flow_with_min_cost()"
   ]
  },
  {
   "cell_type": "code",
   "execution_count": 233,
   "metadata": {},
   "outputs": [],
   "source": [
    "# Now extract results.\n",
    "# Loop through each arc from person to workshop.\n",
    "# If it's a 1, that's the workshop that person attended\n",
    "\n",
    "assignments = dict()\n",
    "for k, arc_idx in person_grp_to_arc_index.items():\n",
    "    if smcf.flow(arc_idx) == 1:\n",
    "        person = k[0]\n",
    "        grp = k[1]\n",
    "        assignments[person] = grp"
   ]
  },
  {
   "cell_type": "code",
   "execution_count": 234,
   "metadata": {},
   "outputs": [],
   "source": [
    "# assignments\n",
    "out_rows = []\n",
    "for person in list(people_preferences):\n",
    "    grp = assignments[person]\n",
    "    rnk = people_preferences[person].index(grp) + 1\n",
    "    out_rows.append([person, grp, rnk])\n",
    "    # print(\"{} in {} (choice #{})\".format(person, grp, rnk))"
   ]
  },
  {
   "cell_type": "code",
   "execution_count": 235,
   "metadata": {},
   "outputs": [],
   "source": [
    "out = pd.DataFrame(out_rows, columns=[\"Name\", \"Group\", \"Rank of Group\"])"
   ]
  },
  {
   "cell_type": "code",
   "execution_count": 236,
   "metadata": {},
   "outputs": [
    {
     "data": {
      "text/html": [
       "<div>\n",
       "<style scoped>\n",
       "    .dataframe tbody tr th:only-of-type {\n",
       "        vertical-align: middle;\n",
       "    }\n",
       "\n",
       "    .dataframe tbody tr th {\n",
       "        vertical-align: top;\n",
       "    }\n",
       "\n",
       "    .dataframe thead th {\n",
       "        text-align: right;\n",
       "    }\n",
       "</style>\n",
       "<table border=\"1\" class=\"dataframe\">\n",
       "  <thead>\n",
       "    <tr style=\"text-align: right;\">\n",
       "      <th></th>\n",
       "      <th>Name</th>\n",
       "      <th>Group</th>\n",
       "      <th>Rank of Group</th>\n",
       "    </tr>\n",
       "  </thead>\n",
       "  <tbody>\n",
       "    <tr>\n",
       "      <th>0</th>\n",
       "      <td>Ali</td>\n",
       "      <td>Gov</td>\n",
       "      <td>2</td>\n",
       "    </tr>\n",
       "    <tr>\n",
       "      <th>1</th>\n",
       "      <td>Youssef</td>\n",
       "      <td>Lit</td>\n",
       "      <td>2</td>\n",
       "    </tr>\n",
       "    <tr>\n",
       "      <th>2</th>\n",
       "      <td>Selim</td>\n",
       "      <td>Soc</td>\n",
       "      <td>2</td>\n",
       "    </tr>\n",
       "    <tr>\n",
       "      <th>3</th>\n",
       "      <td>Murad</td>\n",
       "      <td>Gov</td>\n",
       "      <td>2</td>\n",
       "    </tr>\n",
       "    <tr>\n",
       "      <th>4</th>\n",
       "      <td>Hamza</td>\n",
       "      <td>Soc</td>\n",
       "      <td>2</td>\n",
       "    </tr>\n",
       "  </tbody>\n",
       "</table>\n",
       "</div>"
      ],
      "text/plain": [
       "      Name Group  Rank of Group\n",
       "0      Ali   Gov              2\n",
       "1  Youssef   Lit              2\n",
       "2    Selim   Soc              2\n",
       "3    Murad   Gov              2\n",
       "4    Hamza   Soc              2"
      ]
     },
     "execution_count": 236,
     "metadata": {},
     "output_type": "execute_result"
    }
   ],
   "source": [
    "out.head()"
   ]
  },
  {
   "cell_type": "code",
   "execution_count": 160,
   "metadata": {},
   "outputs": [],
   "source": [
    "out.to_csv(\"optimized_placements.csv\")"
   ]
  }
 ],
 "metadata": {
  "kernelspec": {
   "display_name": "data-analysis",
   "language": "python",
   "name": "python3"
  },
  "language_info": {
   "codemirror_mode": {
    "name": "ipython",
    "version": 3
   },
   "file_extension": ".py",
   "mimetype": "text/x-python",
   "name": "python",
   "nbconvert_exporter": "python",
   "pygments_lexer": "ipython3",
   "version": "3.11.1"
  }
 },
 "nbformat": 4,
 "nbformat_minor": 2
}
